{
  "nbformat": 4,
  "nbformat_minor": 0,
  "metadata": {
    "colab": {
      "name": "TSSproject.ipynb",
      "provenance": [],
      "collapsed_sections": [
        "rxCkYiUztjBB",
        "KTUnX6-NtbO_"
      ]
    },
    "kernelspec": {
      "name": "python3",
      "display_name": "Python 3"
    },
    "language_info": {
      "name": "python"
    }
  },
  "cells": [
    {
      "cell_type": "markdown",
      "source": [
        "# Import librairies"
      ],
      "metadata": {
        "id": "dc9Bu_lzUm7c"
      }
    },
    {
      "cell_type": "code",
      "source": [
        "from google.colab import drive\n",
        "drive.mount('/content/drive')"
      ],
      "metadata": {
        "colab": {
          "base_uri": "https://localhost:8080/"
        },
        "id": "-1vfIiR1pcq2",
        "outputId": "dea3d8d1-d228-4bb9-a281-9844aaf13342"
      },
      "execution_count": 2,
      "outputs": [
        {
          "output_type": "stream",
          "name": "stdout",
          "text": [
            "Drive already mounted at /content/drive; to attempt to forcibly remount, call drive.mount(\"/content/drive\", force_remount=True).\n"
          ]
        }
      ]
    },
    {
      "cell_type": "code",
      "source": [
        "pip install statsmodels --upgrade"
      ],
      "metadata": {
        "colab": {
          "base_uri": "https://localhost:8080/"
        },
        "id": "CplDHIPvXFHj",
        "outputId": "da6bcfd8-5038-4f4e-b757-f63a49e4295b"
      },
      "execution_count": 3,
      "outputs": [
        {
          "output_type": "stream",
          "name": "stdout",
          "text": [
            "Requirement already satisfied: statsmodels in /usr/local/lib/python3.7/dist-packages (0.10.2)\n",
            "Collecting statsmodels\n",
            "  Downloading statsmodels-0.13.2-cp37-cp37m-manylinux_2_17_x86_64.manylinux2014_x86_64.whl (9.8 MB)\n",
            "\u001b[K     |████████████████████████████████| 9.8 MB 5.3 MB/s \n",
            "\u001b[?25hRequirement already satisfied: scipy>=1.3 in /usr/local/lib/python3.7/dist-packages (from statsmodels) (1.4.1)\n",
            "Requirement already satisfied: pandas>=0.25 in /usr/local/lib/python3.7/dist-packages (from statsmodels) (1.3.5)\n",
            "Requirement already satisfied: numpy>=1.17 in /usr/local/lib/python3.7/dist-packages (from statsmodels) (1.19.5)\n",
            "Requirement already satisfied: packaging>=21.3 in /usr/local/lib/python3.7/dist-packages (from statsmodels) (21.3)\n",
            "Requirement already satisfied: patsy>=0.5.2 in /usr/local/lib/python3.7/dist-packages (from statsmodels) (0.5.2)\n",
            "Requirement already satisfied: pyparsing!=3.0.5,>=2.0.2 in /usr/local/lib/python3.7/dist-packages (from packaging>=21.3->statsmodels) (3.0.7)\n",
            "Requirement already satisfied: python-dateutil>=2.7.3 in /usr/local/lib/python3.7/dist-packages (from pandas>=0.25->statsmodels) (2.8.2)\n",
            "Requirement already satisfied: pytz>=2017.3 in /usr/local/lib/python3.7/dist-packages (from pandas>=0.25->statsmodels) (2018.9)\n",
            "Requirement already satisfied: six in /usr/local/lib/python3.7/dist-packages (from patsy>=0.5.2->statsmodels) (1.15.0)\n",
            "Installing collected packages: statsmodels\n",
            "  Attempting uninstall: statsmodels\n",
            "    Found existing installation: statsmodels 0.10.2\n",
            "    Uninstalling statsmodels-0.10.2:\n",
            "      Successfully uninstalled statsmodels-0.10.2\n",
            "Successfully installed statsmodels-0.13.2\n"
          ]
        }
      ]
    },
    {
      "cell_type": "code",
      "source": [
        "!apt-get install libsox-fmt-all libsox-dev sox > /dev/null\n",
        "! python -m pip install torchaudio > /dev/null\n",
        "! python -m pip install git+https://github.com/facebookresearch/WavAugment.git > /dev/null"
      ],
      "metadata": {
        "colab": {
          "base_uri": "https://localhost:8080/"
        },
        "id": "9a-4wL-2QOGi",
        "outputId": "8cefe16a-c30a-47de-d85e-d5575004ac71"
      },
      "execution_count": 4,
      "outputs": [
        {
          "output_type": "stream",
          "name": "stdout",
          "text": [
            "  Running command git clone -q https://github.com/facebookresearch/WavAugment.git /tmp/pip-req-build-wxhgu4dj\n"
          ]
        }
      ]
    },
    {
      "cell_type": "code",
      "source": [
        "!pip install ffmpeg-python > /dev/null"
      ],
      "metadata": {
        "id": "HKZ383HoQRht"
      },
      "execution_count": 5,
      "outputs": []
    },
    {
      "cell_type": "code",
      "source": [
        "import torch\n",
        "import pandas as  pd\n",
        "import numpy as np\n",
        "from pandas import read_csv\n",
        "from matplotlib import pyplot\n",
        "from pandas.plotting import lag_plot\n",
        "from pandas import DataFrame\n",
        "from pandas import concat\n",
        "from statsmodels.tsa.ar_model import AutoReg\n",
        "from sklearn.metrics import mean_squared_error\n",
        "from math import sqrt\n"
      ],
      "metadata": {
        "id": "Y_ZeKoU-RH8K"
      },
      "execution_count": 6,
      "outputs": []
    },
    {
      "cell_type": "markdown",
      "source": [
        "#Import Wave"
      ],
      "metadata": {
        "id": "9sOOSiLwUuox"
      }
    },
    {
      "cell_type": "code",
      "source": [
        "import torchaudio\n",
        "x, sr = torchaudio.load('/content/drive/MyDrive/xylophone.wav')\n",
        "xn, srn = torchaudio.load('/content/drive/MyDrive/whitenoise.wav')"
      ],
      "metadata": {
        "id": "Qiib49O6QVaM"
      },
      "execution_count": 7,
      "outputs": []
    },
    {
      "cell_type": "code",
      "source": [
        "wave1 = pd.DataFrame(x.numpy())\n",
        "wn = pd.DataFrame(xn.numpy())"
      ],
      "metadata": {
        "id": "1l_RdAtYQyNZ"
      },
      "execution_count": 8,
      "outputs": []
    },
    {
      "cell_type": "code",
      "source": [
        "wave1.to_csv('wave1.csv', index=False)\n",
        "!cp wave1.csv \"drive/My Drive\""
      ],
      "metadata": {
        "id": "Wbt8vb4PQ0k0"
      },
      "execution_count": 9,
      "outputs": []
    },
    {
      "cell_type": "code",
      "source": [
        "wn.to_csv('wn.csv', index=False)\n",
        "!cp wn.csv \"drive/My Drive\""
      ],
      "metadata": {
        "id": "4VXl2CgX0Z0u"
      },
      "execution_count": 10,
      "outputs": []
    },
    {
      "cell_type": "code",
      "source": [
        "series = read_csv('wave1.csv', header=0, index_col=0)\n",
        "series=series.T\n",
        "seriesn = read_csv('wn.csv', header=0, index_col=0)\n",
        "seriesn=seriesn.T\n",
        "#print(series.head())\n",
        "#series.plot()\n",
        "#pyplot.show()"
      ],
      "metadata": {
        "id": "fAOZGb1XTOrn"
      },
      "execution_count": 11,
      "outputs": []
    },
    {
      "cell_type": "code",
      "source": [
        "series"
      ],
      "metadata": {
        "colab": {
          "base_uri": "https://localhost:8080/",
          "height": 423
        },
        "id": "6TZ3E8z6vXd8",
        "outputId": "ad795cd5-9eb3-4ff7-8522-2c51f7bdbe02"
      },
      "execution_count": 12,
      "outputs": [
        {
          "output_type": "execute_result",
          "data": {
            "text/html": [
              "\n",
              "  <div id=\"df-4b6168ca-26c1-4747-a37b-a24de529a91a\">\n",
              "    <div class=\"colab-df-container\">\n",
              "      <div>\n",
              "<style scoped>\n",
              "    .dataframe tbody tr th:only-of-type {\n",
              "        vertical-align: middle;\n",
              "    }\n",
              "\n",
              "    .dataframe tbody tr th {\n",
              "        vertical-align: top;\n",
              "    }\n",
              "\n",
              "    .dataframe thead th {\n",
              "        text-align: right;\n",
              "    }\n",
              "</style>\n",
              "<table border=\"1\" class=\"dataframe\">\n",
              "  <thead>\n",
              "    <tr style=\"text-align: right;\">\n",
              "      <th>0</th>\n",
              "      <th>0.0</th>\n",
              "    </tr>\n",
              "  </thead>\n",
              "  <tbody>\n",
              "    <tr>\n",
              "      <th>1</th>\n",
              "      <td>0.000000</td>\n",
              "    </tr>\n",
              "    <tr>\n",
              "      <th>2</th>\n",
              "      <td>0.000000</td>\n",
              "    </tr>\n",
              "    <tr>\n",
              "      <th>3</th>\n",
              "      <td>0.000000</td>\n",
              "    </tr>\n",
              "    <tr>\n",
              "      <th>4</th>\n",
              "      <td>0.000000</td>\n",
              "    </tr>\n",
              "    <tr>\n",
              "      <th>5</th>\n",
              "      <td>0.000000</td>\n",
              "    </tr>\n",
              "    <tr>\n",
              "      <th>...</th>\n",
              "      <td>...</td>\n",
              "    </tr>\n",
              "    <tr>\n",
              "      <th>349995</th>\n",
              "      <td>0.007538</td>\n",
              "    </tr>\n",
              "    <tr>\n",
              "      <th>349996</th>\n",
              "      <td>0.006775</td>\n",
              "    </tr>\n",
              "    <tr>\n",
              "      <th>349997</th>\n",
              "      <td>0.004852</td>\n",
              "    </tr>\n",
              "    <tr>\n",
              "      <th>349998</th>\n",
              "      <td>0.002014</td>\n",
              "    </tr>\n",
              "    <tr>\n",
              "      <th>349999</th>\n",
              "      <td>-0.001465</td>\n",
              "    </tr>\n",
              "  </tbody>\n",
              "</table>\n",
              "<p>349999 rows × 1 columns</p>\n",
              "</div>\n",
              "      <button class=\"colab-df-convert\" onclick=\"convertToInteractive('df-4b6168ca-26c1-4747-a37b-a24de529a91a')\"\n",
              "              title=\"Convert this dataframe to an interactive table.\"\n",
              "              style=\"display:none;\">\n",
              "        \n",
              "  <svg xmlns=\"http://www.w3.org/2000/svg\" height=\"24px\"viewBox=\"0 0 24 24\"\n",
              "       width=\"24px\">\n",
              "    <path d=\"M0 0h24v24H0V0z\" fill=\"none\"/>\n",
              "    <path d=\"M18.56 5.44l.94 2.06.94-2.06 2.06-.94-2.06-.94-.94-2.06-.94 2.06-2.06.94zm-11 1L8.5 8.5l.94-2.06 2.06-.94-2.06-.94L8.5 2.5l-.94 2.06-2.06.94zm10 10l.94 2.06.94-2.06 2.06-.94-2.06-.94-.94-2.06-.94 2.06-2.06.94z\"/><path d=\"M17.41 7.96l-1.37-1.37c-.4-.4-.92-.59-1.43-.59-.52 0-1.04.2-1.43.59L10.3 9.45l-7.72 7.72c-.78.78-.78 2.05 0 2.83L4 21.41c.39.39.9.59 1.41.59.51 0 1.02-.2 1.41-.59l7.78-7.78 2.81-2.81c.8-.78.8-2.07 0-2.86zM5.41 20L4 18.59l7.72-7.72 1.47 1.35L5.41 20z\"/>\n",
              "  </svg>\n",
              "      </button>\n",
              "      \n",
              "  <style>\n",
              "    .colab-df-container {\n",
              "      display:flex;\n",
              "      flex-wrap:wrap;\n",
              "      gap: 12px;\n",
              "    }\n",
              "\n",
              "    .colab-df-convert {\n",
              "      background-color: #E8F0FE;\n",
              "      border: none;\n",
              "      border-radius: 50%;\n",
              "      cursor: pointer;\n",
              "      display: none;\n",
              "      fill: #1967D2;\n",
              "      height: 32px;\n",
              "      padding: 0 0 0 0;\n",
              "      width: 32px;\n",
              "    }\n",
              "\n",
              "    .colab-df-convert:hover {\n",
              "      background-color: #E2EBFA;\n",
              "      box-shadow: 0px 1px 2px rgba(60, 64, 67, 0.3), 0px 1px 3px 1px rgba(60, 64, 67, 0.15);\n",
              "      fill: #174EA6;\n",
              "    }\n",
              "\n",
              "    [theme=dark] .colab-df-convert {\n",
              "      background-color: #3B4455;\n",
              "      fill: #D2E3FC;\n",
              "    }\n",
              "\n",
              "    [theme=dark] .colab-df-convert:hover {\n",
              "      background-color: #434B5C;\n",
              "      box-shadow: 0px 1px 3px 1px rgba(0, 0, 0, 0.15);\n",
              "      filter: drop-shadow(0px 1px 2px rgba(0, 0, 0, 0.3));\n",
              "      fill: #FFFFFF;\n",
              "    }\n",
              "  </style>\n",
              "\n",
              "      <script>\n",
              "        const buttonEl =\n",
              "          document.querySelector('#df-4b6168ca-26c1-4747-a37b-a24de529a91a button.colab-df-convert');\n",
              "        buttonEl.style.display =\n",
              "          google.colab.kernel.accessAllowed ? 'block' : 'none';\n",
              "\n",
              "        async function convertToInteractive(key) {\n",
              "          const element = document.querySelector('#df-4b6168ca-26c1-4747-a37b-a24de529a91a');\n",
              "          const dataTable =\n",
              "            await google.colab.kernel.invokeFunction('convertToInteractive',\n",
              "                                                     [key], {});\n",
              "          if (!dataTable) return;\n",
              "\n",
              "          const docLinkHtml = 'Like what you see? Visit the ' +\n",
              "            '<a target=\"_blank\" href=https://colab.research.google.com/notebooks/data_table.ipynb>data table notebook</a>'\n",
              "            + ' to learn more about interactive tables.';\n",
              "          element.innerHTML = '';\n",
              "          dataTable['output_type'] = 'display_data';\n",
              "          await google.colab.output.renderOutput(dataTable, element);\n",
              "          const docLink = document.createElement('div');\n",
              "          docLink.innerHTML = docLinkHtml;\n",
              "          element.appendChild(docLink);\n",
              "        }\n",
              "      </script>\n",
              "    </div>\n",
              "  </div>\n",
              "  "
            ],
            "text/plain": [
              "0            0.0\n",
              "1       0.000000\n",
              "2       0.000000\n",
              "3       0.000000\n",
              "4       0.000000\n",
              "5       0.000000\n",
              "...          ...\n",
              "349995  0.007538\n",
              "349996  0.006775\n",
              "349997  0.004852\n",
              "349998  0.002014\n",
              "349999 -0.001465\n",
              "\n",
              "[349999 rows x 1 columns]"
            ]
          },
          "metadata": {},
          "execution_count": 12
        }
      ]
    },
    {
      "cell_type": "code",
      "source": [
        "n=(len(seriesn)-len(series))//2\n",
        "seriesn=seriesn[n+1:len(seriesn)-n]"
      ],
      "metadata": {
        "id": "IwWtB0Im1HXW"
      },
      "execution_count": 13,
      "outputs": []
    },
    {
      "cell_type": "code",
      "source": [
        "lag_plot(series)\n",
        "pyplot.show()"
      ],
      "metadata": {
        "colab": {
          "base_uri": "https://localhost:8080/",
          "height": 279
        },
        "id": "U4S_jj06TVUq",
        "outputId": "794ad3e4-170b-4a9f-804a-70a8c65379d5"
      },
      "execution_count": 14,
      "outputs": [
        {
          "output_type": "display_data",
          "data": {
            "image/png": "[encoded data removed]",
            "text/plain": [
              "<Figure size 432x288 with 1 Axes>"
            ]
          },
          "metadata": {
            "needs_background": "light"
          }
        }
      ]
    },
    {
      "cell_type": "code",
      "source": [
        "lag_plot(seriesn)\n",
        "pyplot.show()"
      ],
      "metadata": {
        "colab": {
          "base_uri": "https://localhost:8080/",
          "height": 279
        },
        "id": "zAlDC3M01YYs",
        "outputId": "a1326999-3730-4eaa-9132-3db5afd268d4"
      },
      "execution_count": 15,
      "outputs": [
        {
          "output_type": "display_data",
          "data": {
            "image/png": "[encoded data removed]",
            "text/plain": [
              "<Figure size 432x288 with 1 Axes>"
            ]
          },
          "metadata": {
            "needs_background": "light"
          }
        }
      ]
    },
    {
      "cell_type": "code",
      "source": [
        "values = DataFrame(series.values)\n",
        "dataframe = concat([values.shift(1), values], axis=1)\n",
        "dataframe.columns = ['t-1', 't+1']\n",
        "result = dataframe.corr()\n",
        "print(result)"
      ],
      "metadata": {
        "colab": {
          "base_uri": "https://localhost:8080/"
        },
        "id": "-q0lyEpITZiJ",
        "outputId": "abdecec4-0c44-4bf9-bcb1-e3220019b78b"
      },
      "execution_count": 16,
      "outputs": [
        {
          "output_type": "stream",
          "name": "stdout",
          "text": [
            "          t-1       t+1\n",
            "t-1  1.000000  0.893285\n",
            "t+1  0.893285  1.000000\n"
          ]
        }
      ]
    },
    {
      "cell_type": "markdown",
      "source": [
        "#Train AR Model (without noise)"
      ],
      "metadata": {
        "id": "6A2-UjUiWtHZ"
      }
    },
    {
      "cell_type": "markdown",
      "source": [
        "###Simple Model"
      ],
      "metadata": {
        "id": "rxCkYiUztjBB"
      }
    },
    {
      "cell_type": "code",
      "source": [
        "# split dataset\n",
        "X = series.values\n",
        "train, test = X[1:len(X)-100], X[len(X)-100:]\n",
        "# train autoregression\n",
        "model = AutoReg(train, lags=15)\n",
        "model_fit = model.fit()\n",
        "print('Coefficients: %s' % model_fit.params)\n",
        "# make predictions\n",
        "predictions = model_fit.predict(start=len(train), end=len(train)+len(test)-1, dynamic=False)\n",
        "for i in range(len(predictions)):\n",
        "\tprint('predicted=%f, expected=%f' % (predictions[i], test[i]))\n",
        "rmse = sqrt(mean_squared_error(test, predictions))\n",
        "print('Test RMSE: %.3f' % rmse)\n",
        "# plot results\n",
        "pyplot.plot(test)\n",
        "pyplot.plot(predictions, color='red')\n",
        "pyplot.show()"
      ],
      "metadata": {
        "colab": {
          "base_uri": "https://localhost:8080/",
          "height": 1000
        },
        "id": "85k_BF_KTglY",
        "outputId": "3949acf1-567e-4951-aa36-6121ed3d796f"
      },
      "execution_count": null,
      "outputs": [
        {
          "output_type": "stream",
          "name": "stdout",
          "text": [
            "Coefficients: [-7.23991212e-05  3.00430003e+00 -5.16366051e+00  6.94281501e+00\n",
            " -8.52847215e+00  1.00746541e+01 -1.16669469e+01  1.29333241e+01\n",
            " -1.39438222e+01  1.47918647e+01 -1.55077207e+01  1.58627891e+01\n",
            " -1.58816757e+01  1.54127831e+01 -1.46523374e+01  1.35752931e+01\n",
            " -1.22960386e+01  1.08146490e+01 -9.37396636e+00  7.91889144e+00\n",
            " -6.33303448e+00  4.69355990e+00 -3.31833729e+00  2.26332500e+00\n",
            " -1.52283871e+00  1.01396607e+00 -7.90081508e-01  7.23838785e-01\n",
            " -5.17369274e-01  1.50904439e-01]\n",
            "predicted=0.004036, expected=0.001923\n",
            "predicted=0.005659, expected=-0.001434\n",
            "predicted=0.007662, expected=-0.005005\n",
            "predicted=0.008440, expected=-0.008453\n",
            "predicted=0.007442, expected=-0.011536\n",
            "predicted=0.005246, expected=-0.013885\n",
            "predicted=0.002727, expected=-0.015381\n",
            "predicted=-0.000039, expected=-0.015839\n",
            "predicted=-0.002998, expected=-0.015167\n",
            "predicted=-0.005569, expected=-0.013428\n",
            "predicted=-0.007001, expected=-0.010681\n",
            "predicted=-0.007055, expected=-0.007202\n",
            "predicted=-0.005999, expected=-0.003387\n",
            "predicted=-0.004483, expected=0.000458\n",
            "predicted=-0.003034, expected=0.003815\n",
            "predicted=-0.001802, expected=0.006348\n",
            "predicted=-0.000830, expected=0.007843\n",
            "predicted=-0.000091, expected=0.008057\n",
            "predicted=0.000188, expected=0.006897\n",
            "predicted=-0.000198, expected=0.004639\n",
            "predicted=-0.000676, expected=0.001373\n",
            "predicted=-0.000536, expected=-0.002319\n",
            "predicted=0.000081, expected=-0.006195\n",
            "predicted=0.000716, expected=-0.009827\n",
            "predicted=0.000978, expected=-0.012939\n",
            "predicted=0.000903, expected=-0.015228\n",
            "predicted=0.000740, expected=-0.016327\n",
            "predicted=0.000302, expected=-0.016296\n",
            "predicted=-0.000072, expected=-0.015198\n",
            "predicted=0.000098, expected=-0.012817\n",
            "predicted=0.000442, expected=-0.009583\n",
            "predicted=0.000406, expected=-0.005737\n",
            "predicted=-0.000126, expected=-0.001617\n",
            "predicted=-0.000706, expected=0.002289\n",
            "predicted=-0.000820, expected=0.005615\n",
            "predicted=-0.000503, expected=0.007996\n",
            "predicted=-0.000203, expected=0.009003\n",
            "predicted=0.000038, expected=0.008667\n",
            "predicted=0.000450, expected=0.006836\n",
            "predicted=0.000964, expected=0.003815\n",
            "predicted=0.001385, expected=0.000000\n",
            "predicted=0.001443, expected=-0.004272\n",
            "predicted=0.001027, expected=-0.008514\n",
            "predicted=0.000324, expected=-0.012177\n",
            "predicted=-0.000416, expected=-0.014984\n",
            "predicted=-0.000978, expected=-0.016724\n",
            "predicted=-0.001352, expected=-0.017151\n",
            "predicted=-0.001776, expected=-0.016235\n",
            "predicted=-0.002124, expected=-0.014191\n",
            "predicted=-0.001932, expected=-0.011047\n",
            "predicted=-0.001270, expected=-0.007233\n",
            "predicted=-0.000632, expected=-0.003082\n",
            "predicted=-0.000453, expected=0.000977\n",
            "predicted=-0.000652, expected=0.004639\n",
            "predicted=-0.000745, expected=0.007416\n",
            "predicted=-0.000637, expected=0.008972\n",
            "predicted=-0.000477, expected=0.009186\n",
            "predicted=-0.000234, expected=0.007874\n",
            "predicted=0.000144, expected=0.005280\n",
            "predicted=0.000531, expected=0.001709\n",
            "predicted=0.000791, expected=-0.002502\n",
            "predicted=0.000910, expected=-0.006836\n",
            "predicted=0.000976, expected=-0.010834\n",
            "predicted=0.001025, expected=-0.014099\n",
            "predicted=0.000866, expected=-0.016235\n",
            "predicted=0.000498, expected=-0.017029\n",
            "predicted=0.000136, expected=-0.016510\n",
            "predicted=-0.000172, expected=-0.014679\n",
            "predicted=-0.000461, expected=-0.011932\n",
            "predicted=-0.000732, expected=-0.008392\n",
            "predicted=-0.000947, expected=-0.004517\n",
            "predicted=-0.001058, expected=-0.000610\n",
            "predicted=-0.001062, expected=0.002930\n",
            "predicted=-0.000984, expected=0.005829\n",
            "predicted=-0.000799, expected=0.007721\n",
            "predicted=-0.000635, expected=0.008484\n",
            "predicted=-0.000581, expected=0.007874\n",
            "predicted=-0.000458, expected=0.006104\n",
            "predicted=-0.000172, expected=0.003235\n",
            "predicted=0.000116, expected=-0.000427\n",
            "predicted=0.000156, expected=-0.004425\n",
            "predicted=-0.000048, expected=-0.008423\n",
            "predicted=-0.000178, expected=-0.011871\n",
            "predicted=-0.000061, expected=-0.014404\n",
            "predicted=0.000110, expected=-0.015839\n",
            "predicted=0.000141, expected=-0.016022\n",
            "predicted=0.000094, expected=-0.014954\n",
            "predicted=0.000050, expected=-0.012787\n",
            "predicted=0.000006, expected=-0.009857\n",
            "predicted=-0.000102, expected=-0.006409\n",
            "predicted=-0.000280, expected=-0.002808\n",
            "predicted=-0.000432, expected=0.000610\n",
            "predicted=-0.000549, expected=0.003632\n",
            "predicted=-0.000632, expected=0.005920\n",
            "predicted=-0.000611, expected=0.007202\n",
            "predicted=-0.000495, expected=0.007538\n",
            "predicted=-0.000382, expected=0.006775\n",
            "predicted=-0.000291, expected=0.004852\n",
            "predicted=-0.000185, expected=0.002014\n",
            "predicted=-0.000051, expected=-0.001465\n",
            "Test RMSE: 0.010\n"
          ]
        },
        {
          "output_type": "display_data",
          "data": {
            "image/png": "[encoded data removed]",
            "text/plain": [
              "<Figure size 432x288 with 1 Axes>"
            ]
          },
          "metadata": {
            "needs_background": "light"
          }
        }
      ]
    },
    {
      "cell_type": "markdown",
      "source": [
        "###Advanced Model"
      ],
      "metadata": {
        "id": "KTUnX6-NtbO_"
      }
    },
    {
      "cell_type": "code",
      "source": [
        "# split dataset\n",
        "X = series.values\n",
        "train, test = X[1:len(X)-7], X[len(X)-7:]\n",
        "# train autoregression\n",
        "window = 15\n",
        "model = AutoReg(train, lags=15)\n",
        "model_fit = model.fit()\n",
        "coef = model_fit.params\n",
        "# walk forward over time steps in test\n",
        "history = train[len(train)-window:]\n",
        "history = [history[i] for i in range(len(history))]\n",
        "predictions = list()\n",
        "for t in range(len(test)):\n",
        "\tlength = len(history)\n",
        "\tlag = [history[i] for i in range(length-window,length)]\n",
        "\tyhat = coef[0]\n",
        "\tfor d in range(window):\n",
        "\t\tyhat += coef[d+1] * lag[window-d-1]\n",
        "\tobs = test[t]\n",
        "\tpredictions.append(yhat)\n",
        "\thistory.append(obs)\n",
        "\tprint('predicted=%f, expected=%f' % (yhat, obs))\n",
        "rmse = sqrt(mean_squared_error(test, predictions))\n",
        "print('Test RMSE: %.3f' % rmse)\n",
        "# plot\n",
        "pyplot.plot(test)\n",
        "pyplot.plot(predictions, color='red')\n",
        "pyplot.show()"
      ],
      "metadata": {
        "colab": {
          "base_uri": "https://localhost:8080/",
          "height": 404
        },
        "id": "9sg7je-bYFRK",
        "outputId": "366359a8-4537-4177-cccc-76cbed12a68a"
      },
      "execution_count": null,
      "outputs": [
        {
          "output_type": "stream",
          "name": "stdout",
          "text": [
            "predicted=0.006295, expected=0.005920\n",
            "predicted=0.008716, expected=0.007202\n",
            "predicted=0.008076, expected=0.007538\n",
            "predicted=0.008421, expected=0.006775\n",
            "predicted=0.005709, expected=0.004852\n",
            "predicted=0.003740, expected=0.002014\n",
            "predicted=-0.000389, expected=-0.001465\n",
            "Test RMSE: 0.001\n"
          ]
        },
        {
          "output_type": "display_data",
          "data": {
            "image/png": "[encoded data removed]",
            "text/plain": [
              "<Figure size 432x288 with 1 Axes>"
            ]
          },
          "metadata": {
            "needs_background": "light"
          }
        }
      ]
    },
    {
      "cell_type": "markdown",
      "source": [
        "#Train AR Model + Noise"
      ],
      "metadata": {
        "id": "agjRCRznv6Sr"
      }
    },
    {
      "cell_type": "markdown",
      "source": [
        "###Simple Model"
      ],
      "metadata": {
        "id": "FsB-SVQbv6Sx"
      }
    },
    {
      "cell_type": "code",
      "source": [
        "# split dataset\n",
        "X = series.values + seriesn.values\n",
        "train = X[1:len(X)-100]\n",
        "X1 = series.values \n",
        "test= X1[len(X)-100:]\n",
        "# train autoregression\n",
        "model = AutoReg(train, lags=15)\n",
        "model_fit = model.fit()\n",
        "print('Coefficients: %s' % model_fit.params)\n",
        "# make predictions\n",
        "predictions = model_fit.predict(start=len(train), end=len(train)+len(test)-1, dynamic=False)\n",
        "for i in range(len(predictions)):\n",
        "\tprint('predicted=%f, expected=%f' % (predictions[i], test[i]))\n",
        "rmse = sqrt(mean_squared_error(test, predictions))\n",
        "print('Test RMSE: %.3f' % rmse)\n",
        "# plot results\n",
        "pyplot.plot(test)\n",
        "pyplot.plot(predictions, color='red')\n",
        "pyplot.show()"
      ],
      "metadata": {
        "colab": {
          "base_uri": "https://localhost:8080/",
          "height": 1000
        },
        "outputId": "0531f9a9-ff60-4b52-8544-495acecc7edf",
        "id": "QS9b8NtIv6Sx"
      },
      "execution_count": 31,
      "outputs": [
        {
          "output_type": "stream",
          "name": "stdout",
          "text": [
            "Coefficients: [-0.00093561  0.0494684   0.03083551  0.01569776  0.00248846 -0.00953661\n",
            " -0.01476804 -0.01795395 -0.02111057 -0.01679708 -0.016864   -0.0169976\n",
            " -0.01830517 -0.0183099  -0.01750728 -0.01522169]\n",
            "predicted=0.046073, expected=0.001923\n",
            "predicted=0.030470, expected=-0.001434\n",
            "predicted=0.011886, expected=-0.005005\n",
            "predicted=0.004869, expected=-0.008453\n",
            "predicted=-0.007945, expected=-0.011536\n",
            "predicted=-0.016225, expected=-0.013885\n",
            "predicted=-0.020440, expected=-0.015381\n",
            "predicted=-0.020942, expected=-0.015839\n",
            "predicted=-0.018867, expected=-0.015167\n",
            "predicted=-0.021049, expected=-0.013428\n",
            "predicted=-0.021400, expected=-0.010681\n",
            "predicted=-0.019217, expected=-0.007202\n",
            "predicted=-0.017105, expected=-0.003387\n",
            "predicted=-0.009002, expected=0.000458\n",
            "predicted=-0.009152, expected=0.003815\n",
            "predicted=-0.001476, expected=0.006348\n",
            "predicted=0.000157, expected=0.007843\n",
            "predicted=0.001330, expected=0.008057\n",
            "predicted=0.001988, expected=0.006897\n",
            "predicted=0.002333, expected=0.004639\n",
            "predicted=0.002309, expected=0.001373\n",
            "predicted=0.002043, expected=-0.002319\n",
            "predicted=0.001675, expected=-0.006195\n",
            "predicted=0.001238, expected=-0.009827\n",
            "predicted=0.000828, expected=-0.012939\n",
            "predicted=0.000373, expected=-0.015228\n",
            "predicted=-0.000081, expected=-0.016327\n",
            "predicted=-0.000495, expected=-0.016296\n",
            "predicted=-0.000851, expected=-0.015198\n",
            "predicted=-0.001067, expected=-0.012817\n",
            "predicted=-0.001250, expected=-0.009583\n",
            "predicted=-0.001297, expected=-0.005737\n",
            "predicted=-0.001299, expected=-0.001617\n",
            "predicted=-0.001267, expected=0.002289\n",
            "predicted=-0.001214, expected=0.005615\n",
            "predicted=-0.001148, expected=0.007996\n",
            "predicted=-0.001080, expected=0.009003\n",
            "predicted=-0.001015, expected=0.008667\n",
            "predicted=-0.000957, expected=0.006836\n",
            "predicted=-0.000908, expected=0.003815\n",
            "predicted=-0.000868, expected=0.000000\n",
            "predicted=-0.000838, expected=-0.004272\n",
            "predicted=-0.000819, expected=-0.008514\n",
            "predicted=-0.000808, expected=-0.012177\n",
            "predicted=-0.000805, expected=-0.014984\n",
            "predicted=-0.000808, expected=-0.016724\n",
            "predicted=-0.000815, expected=-0.017151\n",
            "predicted=-0.000824, expected=-0.016235\n",
            "predicted=-0.000833, expected=-0.014191\n",
            "predicted=-0.000842, expected=-0.011047\n",
            "predicted=-0.000850, expected=-0.007233\n",
            "predicted=-0.000857, expected=-0.003082\n",
            "predicted=-0.000862, expected=0.000977\n",
            "predicted=-0.000865, expected=0.004639\n",
            "predicted=-0.000868, expected=0.007416\n",
            "predicted=-0.000869, expected=0.008972\n",
            "predicted=-0.000870, expected=0.009186\n",
            "predicted=-0.000869, expected=0.007874\n",
            "predicted=-0.000869, expected=0.005280\n",
            "predicted=-0.000868, expected=0.001709\n",
            "predicted=-0.000866, expected=-0.002502\n",
            "predicted=-0.000865, expected=-0.006836\n",
            "predicted=-0.000864, expected=-0.010834\n",
            "predicted=-0.000863, expected=-0.014099\n",
            "predicted=-0.000863, expected=-0.016235\n",
            "predicted=-0.000862, expected=-0.017029\n",
            "predicted=-0.000862, expected=-0.016510\n",
            "predicted=-0.000862, expected=-0.014679\n",
            "predicted=-0.000861, expected=-0.011932\n",
            "predicted=-0.000861, expected=-0.008392\n",
            "predicted=-0.000862, expected=-0.004517\n",
            "predicted=-0.000862, expected=-0.000610\n",
            "predicted=-0.000862, expected=0.002930\n",
            "predicted=-0.000862, expected=0.005829\n",
            "predicted=-0.000862, expected=0.007721\n",
            "predicted=-0.000862, expected=0.008484\n",
            "predicted=-0.000862, expected=0.007874\n",
            "predicted=-0.000862, expected=0.006104\n",
            "predicted=-0.000862, expected=0.003235\n",
            "predicted=-0.000863, expected=-0.000427\n",
            "predicted=-0.000863, expected=-0.004425\n",
            "predicted=-0.000863, expected=-0.008423\n",
            "predicted=-0.000863, expected=-0.011871\n",
            "predicted=-0.000862, expected=-0.014404\n",
            "predicted=-0.000862, expected=-0.015839\n",
            "predicted=-0.000862, expected=-0.016022\n",
            "predicted=-0.000862, expected=-0.014954\n",
            "predicted=-0.000862, expected=-0.012787\n",
            "predicted=-0.000862, expected=-0.009857\n",
            "predicted=-0.000862, expected=-0.006409\n",
            "predicted=-0.000862, expected=-0.002808\n",
            "predicted=-0.000862, expected=0.000610\n",
            "predicted=-0.000862, expected=0.003632\n",
            "predicted=-0.000862, expected=0.005920\n",
            "predicted=-0.000862, expected=0.007202\n",
            "predicted=-0.000862, expected=0.007538\n",
            "predicted=-0.000862, expected=0.006775\n",
            "predicted=-0.000862, expected=0.004852\n",
            "predicted=-0.000862, expected=0.002014\n",
            "predicted=-0.000862, expected=-0.001465\n",
            "Test RMSE: 0.011\n"
          ]
        },
        {
          "output_type": "display_data",
          "data": {
            "image/png": "[encoded data removed]",
            "text/plain": [
              "<Figure size 432x288 with 1 Axes>"
            ]
          },
          "metadata": {
            "needs_background": "light"
          }
        }
      ]
    },
    {
      "cell_type": "markdown",
      "source": [
        "###Advanced Model\n",
        "\n"
      ],
      "metadata": {
        "id": "KjWvIk7Fv6Sy"
      }
    },
    {
      "cell_type": "code",
      "source": [
        "# split dataset\n",
        "X = series.values + seriesn.values\n",
        "train = X[1:len(X)-100]\n",
        "X1 = series.values \n",
        "test= X1[len(X)-100:]\n",
        "# train autoregression\n",
        "window = 15\n",
        "model = AutoReg(train, lags=15)\n",
        "model_fit = model.fit()\n",
        "coef = model_fit.params\n",
        "# walk forward over time steps in test\n",
        "history = train[len(train)-window:]\n",
        "history = [history[i] for i in range(len(history))]\n",
        "predictions = list()\n",
        "for t in range(len(test)):\n",
        "\tlength = len(history)\n",
        "\tlag = [history[i] for i in range(length-window,length)]\n",
        "\tyhat = coef[0]\n",
        "\tfor d in range(window):\n",
        "\t\tyhat += coef[d+1] * lag[window-d-1]\n",
        "\tobs = test[t]\n",
        "\tpredictions.append(yhat)\n",
        "\thistory.append(obs)\n",
        "\tprint('predicted=%f, expected=%f' % (yhat, obs))\n",
        "rmse = sqrt(mean_squared_error(test, predictions))\n",
        "print('Test RMSE: %.3f' % rmse)\n",
        "# plot\n",
        "pyplot.plot(test)\n",
        "pyplot.plot(predictions, color='red')\n",
        "pyplot.show()"
      ],
      "metadata": {
        "colab": {
          "base_uri": "https://localhost:8080/",
          "height": 1000
        },
        "outputId": "250bfc7b-0628-4618-eef5-5cf07883fce7",
        "id": "hMN7iAm2v6Sy"
      },
      "execution_count": 32,
      "outputs": [
        {
          "output_type": "stream",
          "name": "stdout",
          "text": [
            "predicted=0.046073, expected=0.001923\n",
            "predicted=0.028286, expected=-0.001434\n",
            "predicted=0.008947, expected=-0.005005\n",
            "predicted=0.002357, expected=-0.008453\n",
            "predicted=-0.009736, expected=-0.011536\n",
            "predicted=-0.016737, expected=-0.013885\n",
            "predicted=-0.019730, expected=-0.015381\n",
            "predicted=-0.019284, expected=-0.015839\n",
            "predicted=-0.016550, expected=-0.015167\n",
            "predicted=-0.018674, expected=-0.013428\n",
            "predicted=-0.018909, expected=-0.010681\n",
            "predicted=-0.016546, expected=-0.007202\n",
            "predicted=-0.014282, expected=-0.003387\n",
            "predicted=-0.006052, expected=0.000458\n",
            "predicted=-0.006457, expected=0.003815\n",
            "predicted=0.001034, expected=0.006348\n",
            "predicted=0.001519, expected=0.007843\n",
            "predicted=0.001796, expected=0.008057\n",
            "predicted=0.001831, expected=0.006897\n",
            "predicted=0.001617, expected=0.004639\n",
            "predicted=0.001177, expected=0.001373\n",
            "predicted=0.000552, expected=-0.002319\n",
            "predicted=-0.000185, expected=-0.006195\n",
            "predicted=-0.000961, expected=-0.009827\n",
            "predicted=-0.001696, expected=-0.012939\n",
            "predicted=-0.002319, expected=-0.015228\n",
            "predicted=-0.002769, expected=-0.016327\n",
            "predicted=-0.002997, expected=-0.016296\n",
            "predicted=-0.002983, expected=-0.015198\n",
            "predicted=-0.002734, expected=-0.012817\n",
            "predicted=-0.002262, expected=-0.009583\n",
            "predicted=-0.001615, expected=-0.005737\n",
            "predicted=-0.000855, expected=-0.001617\n",
            "predicted=-0.000055, expected=0.002289\n",
            "predicted=0.000700, expected=0.005615\n",
            "predicted=0.001335, expected=0.007996\n",
            "predicted=0.001781, expected=0.009003\n",
            "predicted=0.001983, expected=0.008667\n",
            "predicted=0.001920, expected=0.006836\n",
            "predicted=0.001590, expected=0.003815\n",
            "predicted=0.001026, expected=0.000000\n",
            "predicted=0.000291, expected=-0.004272\n",
            "predicted=-0.000537, expected=-0.008514\n",
            "predicted=-0.001372, expected=-0.012177\n",
            "predicted=-0.002121, expected=-0.014984\n",
            "predicted=-0.002706, expected=-0.016724\n",
            "predicted=-0.003072, expected=-0.017151\n",
            "predicted=-0.003180, expected=-0.016235\n",
            "predicted=-0.003020, expected=-0.014191\n",
            "predicted=-0.002613, expected=-0.011047\n",
            "predicted=-0.001994, expected=-0.007233\n",
            "predicted=-0.001229, expected=-0.003082\n",
            "predicted=-0.000396, expected=0.000977\n",
            "predicted=0.000422, expected=0.004639\n",
            "predicted=0.001143, expected=0.007416\n",
            "predicted=0.001690, expected=0.008972\n",
            "predicted=0.002004, expected=0.009186\n",
            "predicted=0.002050, expected=0.007874\n",
            "predicted=0.001814, expected=0.005280\n",
            "predicted=0.001324, expected=0.001709\n",
            "predicted=0.000633, expected=-0.002502\n",
            "predicted=-0.000190, expected=-0.006836\n",
            "predicted=-0.001051, expected=-0.010834\n",
            "predicted=-0.001859, expected=-0.014099\n",
            "predicted=-0.002531, expected=-0.016235\n",
            "predicted=-0.002993, expected=-0.017029\n",
            "predicted=-0.003197, expected=-0.016510\n",
            "predicted=-0.003128, expected=-0.014679\n",
            "predicted=-0.002793, expected=-0.011932\n",
            "predicted=-0.002237, expected=-0.008392\n",
            "predicted=-0.001516, expected=-0.004517\n",
            "predicted=-0.000709, expected=-0.000610\n",
            "predicted=0.000104, expected=0.002930\n",
            "predicted=0.000840, expected=0.005829\n",
            "predicted=0.001431, expected=0.007721\n",
            "predicted=0.001816, expected=0.008484\n",
            "predicted=0.001960, expected=0.007874\n",
            "predicted=0.001840, expected=0.006104\n",
            "predicted=0.001474, expected=0.003235\n",
            "predicted=0.000894, expected=-0.000427\n",
            "predicted=0.000161, expected=-0.004425\n",
            "predicted=-0.000646, expected=-0.008423\n",
            "predicted=-0.001445, expected=-0.011871\n",
            "predicted=-0.002150, expected=-0.014404\n",
            "predicted=-0.002684, expected=-0.015839\n",
            "predicted=-0.002996, expected=-0.016022\n",
            "predicted=-0.003057, expected=-0.014954\n",
            "predicted=-0.002862, expected=-0.012787\n",
            "predicted=-0.002437, expected=-0.009857\n",
            "predicted=-0.001833, expected=-0.006409\n",
            "predicted=-0.001113, expected=-0.002808\n",
            "predicted=-0.000352, expected=0.000610\n",
            "predicted=0.000372, expected=0.003632\n",
            "predicted=0.000997, expected=0.005920\n",
            "predicted=0.001460, expected=0.007202\n",
            "predicted=0.001717, expected=0.007538\n",
            "predicted=0.001749, expected=0.006775\n",
            "predicted=0.001553, expected=0.004852\n",
            "predicted=0.001143, expected=0.002014\n",
            "predicted=0.000557, expected=-0.001465\n",
            "Test RMSE: 0.009\n"
          ]
        },
        {
          "output_type": "display_data",
          "data": {
            "image/png": "[encoded data removed]",
            "text/plain": [
              "<Figure size 432x288 with 1 Axes>"
            ]
          },
          "metadata": {
            "needs_background": "light"
          }
        }
      ]
    },
    {
      "cell_type": "code",
      "source": [
        ""
      ],
      "metadata": {
        "id": "FYHqVBN3v6Sy"
      },
      "execution_count": null,
      "outputs": []
    },
    {
      "cell_type": "markdown",
      "source": [
        "#Impact of the window (p)"
      ],
      "metadata": {
        "id": "-b-T8qdH15dN"
      }
    },
    {
      "cell_type": "markdown",
      "source": [
        "###Simple Model"
      ],
      "metadata": {
        "id": "sOetpg5Y17-H"
      }
    },
    {
      "cell_type": "code",
      "source": [
        "# split dataset\n",
        "X = series.values + seriesn.values\n",
        "train = X[1:len(X)-100]\n",
        "X1 = series.values \n",
        "test= X1[len(X)-100:]\n",
        "# train autoregression\n",
        "T=np.zeros([14,2])\n",
        "j=0\n",
        "for p in [5,10,15,20,25,30,35,40,45,50,55,60,65,70]:\n",
        "\tmodel = AutoReg(train, lags=p)\n",
        "\tmodel_fit = model.fit()\n",
        "\t#print('Coefficients: %s' % model_fit.params)\n",
        "\t# make predictions\n",
        "\tpredictions = model_fit.predict(start=len(train), end=len(train)+len(test)-1, dynamic=False)\n",
        "\t#for i in range(len(predictions)):\n",
        "\t\t#print('predicted=%f, expected=%f' % (predictions[i], test[i]))\n",
        "\trmse = sqrt(mean_squared_error(test, predictions))\n",
        "\tT[j,0]=p\n",
        "\tT[j,1]=rmse\n",
        "\tj+=1\n",
        "\t#print('Test RMSE: %.3f' % rmse)\n",
        "\t#pyplot.plot(test)\n",
        "\t#pyplot.plot(predictions, color='red')\n",
        "\t#pyplot.show()\n",
        "verification=pd.DataFrame(T,columns=['window','RMSE'])\n",
        "verification = verification.astype({\"window\": int,'RMSE': float})\n",
        "verification= verification.transpose() \n",
        "# plot results\n"
      ],
      "metadata": {
        "id": "DxeW7snn17-H"
      },
      "execution_count": null,
      "outputs": []
    },
    {
      "cell_type": "code",
      "source": [
        "verification"
      ],
      "metadata": {
        "colab": {
          "base_uri": "https://localhost:8080/",
          "height": 176
        },
        "id": "ecKIMjy-4SEH",
        "outputId": "29ac899a-27eb-421b-b5b5-df614bbcd6a6"
      },
      "execution_count": null,
      "outputs": [
        {
          "output_type": "execute_result",
          "data": {
            "text/html": [
              "\n",
              "  <div id=\"df-fcd8c078-8424-4432-97c1-8218b17dd2ee\">\n",
              "    <div class=\"colab-df-container\">\n",
              "      <div>\n",
              "<style scoped>\n",
              "    .dataframe tbody tr th:only-of-type {\n",
              "        vertical-align: middle;\n",
              "    }\n",
              "\n",
              "    .dataframe tbody tr th {\n",
              "        vertical-align: top;\n",
              "    }\n",
              "\n",
              "    .dataframe thead th {\n",
              "        text-align: right;\n",
              "    }\n",
              "</style>\n",
              "<table border=\"1\" class=\"dataframe\">\n",
              "  <thead>\n",
              "    <tr style=\"text-align: right;\">\n",
              "      <th></th>\n",
              "      <th>0</th>\n",
              "      <th>1</th>\n",
              "      <th>2</th>\n",
              "      <th>3</th>\n",
              "      <th>4</th>\n",
              "      <th>5</th>\n",
              "      <th>6</th>\n",
              "      <th>7</th>\n",
              "      <th>8</th>\n",
              "      <th>9</th>\n",
              "      <th>10</th>\n",
              "      <th>11</th>\n",
              "      <th>12</th>\n",
              "      <th>13</th>\n",
              "    </tr>\n",
              "  </thead>\n",
              "  <tbody>\n",
              "    <tr>\n",
              "      <th>window</th>\n",
              "      <td>5.00000</td>\n",
              "      <td>10.000000</td>\n",
              "      <td>15.000000</td>\n",
              "      <td>20.000000</td>\n",
              "      <td>25.000000</td>\n",
              "      <td>30.000000</td>\n",
              "      <td>35.000000</td>\n",
              "      <td>40.000000</td>\n",
              "      <td>45.000000</td>\n",
              "      <td>50.000000</td>\n",
              "      <td>55.000000</td>\n",
              "      <td>60.000000</td>\n",
              "      <td>65.000000</td>\n",
              "      <td>70.000000</td>\n",
              "    </tr>\n",
              "    <tr>\n",
              "      <th>RMSE</th>\n",
              "      <td>0.00981</td>\n",
              "      <td>0.009223</td>\n",
              "      <td>0.010852</td>\n",
              "      <td>0.011218</td>\n",
              "      <td>0.013677</td>\n",
              "      <td>0.013862</td>\n",
              "      <td>0.014613</td>\n",
              "      <td>0.015021</td>\n",
              "      <td>0.016912</td>\n",
              "      <td>0.017007</td>\n",
              "      <td>0.017245</td>\n",
              "      <td>0.017914</td>\n",
              "      <td>0.018386</td>\n",
              "      <td>0.017952</td>\n",
              "    </tr>\n",
              "  </tbody>\n",
              "</table>\n",
              "</div>\n",
              "      <button class=\"colab-df-convert\" onclick=\"convertToInteractive('df-fcd8c078-8424-4432-97c1-8218b17dd2ee')\"\n",
              "              title=\"Convert this dataframe to an interactive table.\"\n",
              "              style=\"display:none;\">\n",
              "        \n",
              "  <svg xmlns=\"http://www.w3.org/2000/svg\" height=\"24px\"viewBox=\"0 0 24 24\"\n",
              "       width=\"24px\">\n",
              "    <path d=\"M0 0h24v24H0V0z\" fill=\"none\"/>\n",
              "    <path d=\"M18.56 5.44l.94 2.06.94-2.06 2.06-.94-2.06-.94-.94-2.06-.94 2.06-2.06.94zm-11 1L8.5 8.5l.94-2.06 2.06-.94-2.06-.94L8.5 2.5l-.94 2.06-2.06.94zm10 10l.94 2.06.94-2.06 2.06-.94-2.06-.94-.94-2.06-.94 2.06-2.06.94z\"/><path d=\"M17.41 7.96l-1.37-1.37c-.4-.4-.92-.59-1.43-.59-.52 0-1.04.2-1.43.59L10.3 9.45l-7.72 7.72c-.78.78-.78 2.05 0 2.83L4 21.41c.39.39.9.59 1.41.59.51 0 1.02-.2 1.41-.59l7.78-7.78 2.81-2.81c.8-.78.8-2.07 0-2.86zM5.41 20L4 18.59l7.72-7.72 1.47 1.35L5.41 20z\"/>\n",
              "  </svg>\n",
              "      </button>\n",
              "      \n",
              "  <style>\n",
              "    .colab-df-container {\n",
              "      display:flex;\n",
              "      flex-wrap:wrap;\n",
              "      gap: 12px;\n",
              "    }\n",
              "\n",
              "    .colab-df-convert {\n",
              "      background-color: #E8F0FE;\n",
              "      border: none;\n",
              "      border-radius: 50%;\n",
              "      cursor: pointer;\n",
              "      display: none;\n",
              "      fill: #1967D2;\n",
              "      height: 32px;\n",
              "      padding: 0 0 0 0;\n",
              "      width: 32px;\n",
              "    }\n",
              "\n",
              "    .colab-df-convert:hover {\n",
              "      background-color: #E2EBFA;\n",
              "      box-shadow: 0px 1px 2px rgba(60, 64, 67, 0.3), 0px 1px 3px 1px rgba(60, 64, 67, 0.15);\n",
              "      fill: #174EA6;\n",
              "    }\n",
              "\n",
              "    [theme=dark] .colab-df-convert {\n",
              "      background-color: #3B4455;\n",
              "      fill: #D2E3FC;\n",
              "    }\n",
              "\n",
              "    [theme=dark] .colab-df-convert:hover {\n",
              "      background-color: #434B5C;\n",
              "      box-shadow: 0px 1px 3px 1px rgba(0, 0, 0, 0.15);\n",
              "      filter: drop-shadow(0px 1px 2px rgba(0, 0, 0, 0.3));\n",
              "      fill: #FFFFFF;\n",
              "    }\n",
              "  </style>\n",
              "\n",
              "      <script>\n",
              "        const buttonEl =\n",
              "          document.querySelector('#df-fcd8c078-8424-4432-97c1-8218b17dd2ee button.colab-df-convert');\n",
              "        buttonEl.style.display =\n",
              "          google.colab.kernel.accessAllowed ? 'block' : 'none';\n",
              "\n",
              "        async function convertToInteractive(key) {\n",
              "          const element = document.querySelector('#df-fcd8c078-8424-4432-97c1-8218b17dd2ee');\n",
              "          const dataTable =\n",
              "            await google.colab.kernel.invokeFunction('convertToInteractive',\n",
              "                                                     [key], {});\n",
              "          if (!dataTable) return;\n",
              "\n",
              "          const docLinkHtml = 'Like what you see? Visit the ' +\n",
              "            '<a target=\"_blank\" href=https://colab.research.google.com/notebooks/data_table.ipynb>data table notebook</a>'\n",
              "            + ' to learn more about interactive tables.';\n",
              "          element.innerHTML = '';\n",
              "          dataTable['output_type'] = 'display_data';\n",
              "          await google.colab.output.renderOutput(dataTable, element);\n",
              "          const docLink = document.createElement('div');\n",
              "          docLink.innerHTML = docLinkHtml;\n",
              "          element.appendChild(docLink);\n",
              "        }\n",
              "      </script>\n",
              "    </div>\n",
              "  </div>\n",
              "  "
            ],
            "text/plain": [
              "             0          1          2   ...         11         12         13\n",
              "window  5.00000  10.000000  15.000000  ...  60.000000  65.000000  70.000000\n",
              "RMSE    0.00981   0.009223   0.010852  ...   0.017914   0.018386   0.017952\n",
              "\n",
              "[2 rows x 14 columns]"
            ]
          },
          "metadata": {},
          "execution_count": 58
        }
      ]
    },
    {
      "cell_type": "code",
      "source": [
        "verification.transpose().plot(kind='scatter',x='window',y='RMSE')"
      ],
      "metadata": {
        "colab": {
          "base_uri": "https://localhost:8080/",
          "height": 296
        },
        "id": "ekKx82_ue154",
        "outputId": "9ddf2ae6-0759-4574-ba18-b354975d5da0"
      },
      "execution_count": null,
      "outputs": [
        {
          "output_type": "execute_result",
          "data": {
            "text/plain": [
              "<matplotlib.axes._subplots.AxesSubplot at 0x7efbf827ef90>"
            ]
          },
          "metadata": {},
          "execution_count": 59
        },
        {
          "output_type": "display_data",
          "data": {
            "image/png": "[encoded data removed]",
            "text/plain": [
              "<Figure size 432x288 with 1 Axes>"
            ]
          },
          "metadata": {
            "needs_background": "light"
          }
        }
      ]
    },
    {
      "cell_type": "markdown",
      "source": [
        "###Advanced Model"
      ],
      "metadata": {
        "id": "RSQv5C9l2DVK"
      }
    },
    {
      "cell_type": "code",
      "source": [
        "# split dataset\n",
        "X = series.values + seriesn.values\n",
        "train = X[1:len(X)-100]\n",
        "X1 = series.values \n",
        "test= X1[len(X)-100:]\n",
        "# train autoregression\n",
        "T=np.zeros([14,2])\n",
        "j=0\n",
        "for p in [5,10,15,20,25,30,35,40,45,50,55,60,65,70]:\n",
        "\twindow = p\n",
        "\tmodel = AutoReg(train, lags=p)\n",
        "\tmodel_fit = model.fit()\n",
        "\tcoef = model_fit.params\n",
        "\t# walk forward over time steps in test\n",
        "\thistory = train[len(train)-window:]\n",
        "\thistory = [history[i] for i in range(len(history))]\n",
        "\tpredictions = list()\n",
        "\tfor t in range(len(test)):\n",
        "\t\tlength = len(history)\n",
        "\t\tlag = [history[i] for i in range(length-window,length)]\n",
        "\t\tyhat = coef[0]\n",
        "\t\tfor d in range(window):\n",
        "\t\t\tyhat += coef[d+1] * lag[window-d-1]\n",
        "\t\tobs = test[t]\n",
        "\t\tpredictions.append(yhat)\n",
        "\t\thistory.append(obs)\n",
        "\t\t#print('predicted=%f, expected=%f' % (yhat, obs))\n",
        "\trmse = sqrt(mean_squared_error(test, predictions))\n",
        "\tT[j,0]=p\n",
        "\tT[j,1]=rmse\n",
        "\tj+=1\n",
        "\t#print('Test RMSE: %.3f' % rmse)\n",
        "\t# plot\n",
        "\t#pyplot.plot(test)\n",
        "\t#pyplot.plot(predictions, color='red')\n",
        "\t#pyplot.show()\n",
        "\tverification=pd.DataFrame(T,columns=['window','RMSE'])\n",
        "\tverification = verification.astype({\"window\": int,'RMSE': float})\n",
        "\tverification= verification.transpose() "
      ],
      "metadata": {
        "id": "FXyFDP2U2DVK"
      },
      "execution_count": 33,
      "outputs": []
    },
    {
      "cell_type": "code",
      "source": [
        "verification"
      ],
      "metadata": {
        "id": "XNHOmArL7s7F",
        "colab": {
          "base_uri": "https://localhost:8080/",
          "height": 176
        },
        "outputId": "a426e158-2b33-43f0-db24-9f836db4ca6a"
      },
      "execution_count": 34,
      "outputs": [
        {
          "output_type": "execute_result",
          "data": {
            "text/html": [
              "\n",
              "  <div id=\"df-00feb44b-4fdc-4b99-a779-728499713a05\">\n",
              "    <div class=\"colab-df-container\">\n",
              "      <div>\n",
              "<style scoped>\n",
              "    .dataframe tbody tr th:only-of-type {\n",
              "        vertical-align: middle;\n",
              "    }\n",
              "\n",
              "    .dataframe tbody tr th {\n",
              "        vertical-align: top;\n",
              "    }\n",
              "\n",
              "    .dataframe thead th {\n",
              "        text-align: right;\n",
              "    }\n",
              "</style>\n",
              "<table border=\"1\" class=\"dataframe\">\n",
              "  <thead>\n",
              "    <tr style=\"text-align: right;\">\n",
              "      <th></th>\n",
              "      <th>0</th>\n",
              "      <th>1</th>\n",
              "      <th>2</th>\n",
              "      <th>3</th>\n",
              "      <th>4</th>\n",
              "      <th>5</th>\n",
              "      <th>6</th>\n",
              "      <th>7</th>\n",
              "      <th>8</th>\n",
              "      <th>9</th>\n",
              "      <th>10</th>\n",
              "      <th>11</th>\n",
              "      <th>12</th>\n",
              "      <th>13</th>\n",
              "    </tr>\n",
              "  </thead>\n",
              "  <tbody>\n",
              "    <tr>\n",
              "      <th>window</th>\n",
              "      <td>5.000000</td>\n",
              "      <td>10.000000</td>\n",
              "      <td>15.000000</td>\n",
              "      <td>20.000000</td>\n",
              "      <td>25.000000</td>\n",
              "      <td>30.00000</td>\n",
              "      <td>35.00000</td>\n",
              "      <td>40.000000</td>\n",
              "      <td>45.000000</td>\n",
              "      <td>50.00000</td>\n",
              "      <td>55.000000</td>\n",
              "      <td>60.000000</td>\n",
              "      <td>65.000000</td>\n",
              "      <td>70.00000</td>\n",
              "    </tr>\n",
              "    <tr>\n",
              "      <th>RMSE</th>\n",
              "      <td>0.008979</td>\n",
              "      <td>0.008139</td>\n",
              "      <td>0.009431</td>\n",
              "      <td>0.009669</td>\n",
              "      <td>0.011308</td>\n",
              "      <td>0.01142</td>\n",
              "      <td>0.01147</td>\n",
              "      <td>0.011874</td>\n",
              "      <td>0.013278</td>\n",
              "      <td>0.01344</td>\n",
              "      <td>0.013627</td>\n",
              "      <td>0.013833</td>\n",
              "      <td>0.014323</td>\n",
              "      <td>0.01395</td>\n",
              "    </tr>\n",
              "  </tbody>\n",
              "</table>\n",
              "</div>\n",
              "      <button class=\"colab-df-convert\" onclick=\"convertToInteractive('df-00feb44b-4fdc-4b99-a779-728499713a05')\"\n",
              "              title=\"Convert this dataframe to an interactive table.\"\n",
              "              style=\"display:none;\">\n",
              "        \n",
              "  <svg xmlns=\"http://www.w3.org/2000/svg\" height=\"24px\"viewBox=\"0 0 24 24\"\n",
              "       width=\"24px\">\n",
              "    <path d=\"M0 0h24v24H0V0z\" fill=\"none\"/>\n",
              "    <path d=\"M18.56 5.44l.94 2.06.94-2.06 2.06-.94-2.06-.94-.94-2.06-.94 2.06-2.06.94zm-11 1L8.5 8.5l.94-2.06 2.06-.94-2.06-.94L8.5 2.5l-.94 2.06-2.06.94zm10 10l.94 2.06.94-2.06 2.06-.94-2.06-.94-.94-2.06-.94 2.06-2.06.94z\"/><path d=\"M17.41 7.96l-1.37-1.37c-.4-.4-.92-.59-1.43-.59-.52 0-1.04.2-1.43.59L10.3 9.45l-7.72 7.72c-.78.78-.78 2.05 0 2.83L4 21.41c.39.39.9.59 1.41.59.51 0 1.02-.2 1.41-.59l7.78-7.78 2.81-2.81c.8-.78.8-2.07 0-2.86zM5.41 20L4 18.59l7.72-7.72 1.47 1.35L5.41 20z\"/>\n",
              "  </svg>\n",
              "      </button>\n",
              "      \n",
              "  <style>\n",
              "    .colab-df-container {\n",
              "      display:flex;\n",
              "      flex-wrap:wrap;\n",
              "      gap: 12px;\n",
              "    }\n",
              "\n",
              "    .colab-df-convert {\n",
              "      background-color: #E8F0FE;\n",
              "      border: none;\n",
              "      border-radius: 50%;\n",
              "      cursor: pointer;\n",
              "      display: none;\n",
              "      fill: #1967D2;\n",
              "      height: 32px;\n",
              "      padding: 0 0 0 0;\n",
              "      width: 32px;\n",
              "    }\n",
              "\n",
              "    .colab-df-convert:hover {\n",
              "      background-color: #E2EBFA;\n",
              "      box-shadow: 0px 1px 2px rgba(60, 64, 67, 0.3), 0px 1px 3px 1px rgba(60, 64, 67, 0.15);\n",
              "      fill: #174EA6;\n",
              "    }\n",
              "\n",
              "    [theme=dark] .colab-df-convert {\n",
              "      background-color: #3B4455;\n",
              "      fill: #D2E3FC;\n",
              "    }\n",
              "\n",
              "    [theme=dark] .colab-df-convert:hover {\n",
              "      background-color: #434B5C;\n",
              "      box-shadow: 0px 1px 3px 1px rgba(0, 0, 0, 0.15);\n",
              "      filter: drop-shadow(0px 1px 2px rgba(0, 0, 0, 0.3));\n",
              "      fill: #FFFFFF;\n",
              "    }\n",
              "  </style>\n",
              "\n",
              "      <script>\n",
              "        const buttonEl =\n",
              "          document.querySelector('#df-00feb44b-4fdc-4b99-a779-728499713a05 button.colab-df-convert');\n",
              "        buttonEl.style.display =\n",
              "          google.colab.kernel.accessAllowed ? 'block' : 'none';\n",
              "\n",
              "        async function convertToInteractive(key) {\n",
              "          const element = document.querySelector('#df-00feb44b-4fdc-4b99-a779-728499713a05');\n",
              "          const dataTable =\n",
              "            await google.colab.kernel.invokeFunction('convertToInteractive',\n",
              "                                                     [key], {});\n",
              "          if (!dataTable) return;\n",
              "\n",
              "          const docLinkHtml = 'Like what you see? Visit the ' +\n",
              "            '<a target=\"_blank\" href=https://colab.research.google.com/notebooks/data_table.ipynb>data table notebook</a>'\n",
              "            + ' to learn more about interactive tables.';\n",
              "          element.innerHTML = '';\n",
              "          dataTable['output_type'] = 'display_data';\n",
              "          await google.colab.output.renderOutput(dataTable, element);\n",
              "          const docLink = document.createElement('div');\n",
              "          docLink.innerHTML = docLinkHtml;\n",
              "          element.appendChild(docLink);\n",
              "        }\n",
              "      </script>\n",
              "    </div>\n",
              "  </div>\n",
              "  "
            ],
            "text/plain": [
              "              0          1          2   ...         11         12        13\n",
              "window  5.000000  10.000000  15.000000  ...  60.000000  65.000000  70.00000\n",
              "RMSE    0.008979   0.008139   0.009431  ...   0.013833   0.014323   0.01395\n",
              "\n",
              "[2 rows x 14 columns]"
            ]
          },
          "metadata": {},
          "execution_count": 34
        }
      ]
    },
    {
      "cell_type": "code",
      "source": [
        "verification.transpose().plot(kind='scatter',x='window',y='RMSE')"
      ],
      "metadata": {
        "id": "9FHKefy9m4VV",
        "outputId": "bf673b29-3fd2-44f2-f998-1f382f757625",
        "colab": {
          "base_uri": "https://localhost:8080/",
          "height": 296
        }
      },
      "execution_count": 35,
      "outputs": [
        {
          "output_type": "execute_result",
          "data": {
            "text/plain": [
              "<matplotlib.axes._subplots.AxesSubplot at 0x7fd694006d90>"
            ]
          },
          "metadata": {},
          "execution_count": 35
        },
        {
          "output_type": "display_data",
          "data": {
            "image/png": "[encoded data removed]",
            "text/plain": [
              "<Figure size 432x288 with 1 Axes>"
            ]
          },
          "metadata": {
            "needs_background": "light"
          }
        }
      ]
    }
  ]
}